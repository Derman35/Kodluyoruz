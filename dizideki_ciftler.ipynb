{
 "cells": [
  {
   "cell_type": "code",
   "execution_count": null,
   "metadata": {},
   "outputs": [],
   "source": [
    "# Kullanıcıdan dizi uzunluğunu al\n",
    "dizi_uzunlugu = int(input(\"Dizi uzunluğunu girin: \"))\n",
    "\n",
    "# Kullanıcıdan dizi elemanlarını al\n",
    "dizi = []\n",
    "for i in range(dizi_uzunlugu):\n",
    "    eleman = int(input(f\"{i+1}. elemanı girin: \"))\n",
    "    dizi.append(eleman)\n",
    "\n",
    "# Çift sayıların toplamını hesapla\n",
    "cift_toplam = 0\n",
    "for eleman in dizi:\n",
    "    if eleman % 2 == 0:\n",
    "        cift_toplam += eleman\n",
    "\n",
    "# Sonucu ekrana yazdır\n",
    "print(\"Dizi içindeki çift sayıların toplamı:\", cift_toplam)\n"
   ]
  },
  {
   "cell_type": "code",
   "execution_count": null,
   "metadata": {},
   "outputs": [],
   "source": []
  }
 ],
 "metadata": {
  "kernelspec": {
   "display_name": "Python 3",
   "language": "python",
   "name": "python3"
  },
  "language_info": {
   "codemirror_mode": {
    "name": "ipython",
    "version": 3
   },
   "file_extension": ".py",
   "mimetype": "text/x-python",
   "name": "python",
   "nbconvert_exporter": "python",
   "pygments_lexer": "ipython3",
   "version": "3.11.3"
  },
  "orig_nbformat": 4
 },
 "nbformat": 4,
 "nbformat_minor": 2
}
