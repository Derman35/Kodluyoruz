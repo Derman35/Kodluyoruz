{
 "cells": [
  {
   "cell_type": "code",
   "execution_count": 1,
   "metadata": {},
   "outputs": [
    {
     "name": "stdout",
     "output_type": "stream",
     "text": [
      "Tavuk sayısı: 22\n",
      "Koyun sayısı: 14\n"
     ]
    }
   ],
   "source": [
    "# Toplam baş ve bacak sayıları\n",
    "toplam_bas = 36\n",
    "toplam_bacak = 100\n",
    "\n",
    "# Tavuk ve koyun sayısını hesapla\n",
    "# x: tavuk sayısı, y: koyun sayısı\n",
    "for x in range(toplam_bas + 1):\n",
    "    y = toplam_bas - x\n",
    "    if 2*x + 4*y == toplam_bacak:\n",
    "        break\n",
    "\n",
    "# Sonucu ekrana yazdır\n",
    "print(\"Tavuk sayısı:\", x)\n",
    "print(\"Koyun sayısı:\", y)\n"
   ]
  }
 ],
 "metadata": {
  "kernelspec": {
   "display_name": "Python 3",
   "language": "python",
   "name": "python3"
  },
  "language_info": {
   "codemirror_mode": {
    "name": "ipython",
    "version": 3
   },
   "file_extension": ".py",
   "mimetype": "text/x-python",
   "name": "python",
   "nbconvert_exporter": "python",
   "pygments_lexer": "ipython3",
   "version": "3.11.3"
  },
  "orig_nbformat": 4
 },
 "nbformat": 4,
 "nbformat_minor": 2
}
