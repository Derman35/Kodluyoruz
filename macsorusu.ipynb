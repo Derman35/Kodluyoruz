{
 "cells": [
  {
   "cell_type": "code",
   "execution_count": 2,
   "metadata": {},
   "outputs": [
    {
     "name": "stdout",
     "output_type": "stream",
     "text": [
      "Toplam puan: 35\n"
     ]
    }
   ],
   "source": [
    "# Verilen atış ve isabet sayıları\n",
    "isabet_3_puan = 5\n",
    "isabet_2_puan = 10\n",
    "\n",
    "# Atışların puan değerleri\n",
    "puan_3 = 3\n",
    "puan_2 = 2\n",
    "\n",
    "# Toplam puan hesaplama\n",
    "toplam_puan = (isabet_3_puan * puan_3) + (isabet_2_puan * puan_2)\n",
    "\n",
    "# Sonucu yazdırma\n",
    "print(\"Toplam puan:\", toplam_puan)\n"
   ]
  }
 ],
 "metadata": {
  "kernelspec": {
   "display_name": "Python 3",
   "language": "python",
   "name": "python3"
  },
  "language_info": {
   "codemirror_mode": {
    "name": "ipython",
    "version": 3
   },
   "file_extension": ".py",
   "mimetype": "text/x-python",
   "name": "python",
   "nbconvert_exporter": "python",
   "pygments_lexer": "ipython3",
   "version": "3.11.5"
  },
  "orig_nbformat": 4
 },
 "nbformat": 4,
 "nbformat_minor": 2
}
