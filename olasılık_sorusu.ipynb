{
 "cells": [
  {
   "cell_type": "code",
   "execution_count": 1,
   "metadata": {},
   "outputs": [
    {
     "name": "stdout",
     "output_type": "stream",
     "text": [
      "İki topun aynı renk olma olasılığı: 0.2878787878787879\n"
     ]
    }
   ],
   "source": [
    "# Top renk ve sayıları\n",
    "kirmizi_top_sayisi = 5\n",
    "yesil_top_sayisi = 4\n",
    "mavi_top_sayisi = 3\n",
    "\n",
    "# Toplam top sayısı\n",
    "toplam_top_sayisi = kirmizi_top_sayisi + yesil_top_sayisi + mavi_top_sayisi\n",
    "\n",
    "# İki topun aynı renk olma olasılığı hesaplaması\n",
    "ayni_renk_olasiligi = (kirmizi_top_sayisi / toplam_top_sayisi) * ((kirmizi_top_sayisi - 1) / (toplam_top_sayisi - 1)) + \\\n",
    "                      (yesil_top_sayisi / toplam_top_sayisi) * ((yesil_top_sayisi - 1) / (toplam_top_sayisi - 1)) + \\\n",
    "                      (mavi_top_sayisi / toplam_top_sayisi) * ((mavi_top_sayisi - 1) / (toplam_top_sayisi - 1))\n",
    "\n",
    "# Sonucu yazdırma\n",
    "print(\"İki topun aynı renk olma olasılığı:\", ayni_renk_olasiligi)\n"
   ]
  }
 ],
 "metadata": {
  "kernelspec": {
   "display_name": "Python 3",
   "language": "python",
   "name": "python3"
  },
  "language_info": {
   "codemirror_mode": {
    "name": "ipython",
    "version": 3
   },
   "file_extension": ".py",
   "mimetype": "text/x-python",
   "name": "python",
   "nbconvert_exporter": "python",
   "pygments_lexer": "ipython3",
   "version": "3.11.5"
  },
  "orig_nbformat": 4
 },
 "nbformat": 4,
 "nbformat_minor": 2
}
