{
 "cells": [
  {
   "cell_type": "code",
   "execution_count": 1,
   "metadata": {},
   "outputs": [
    {
     "name": "stdout",
     "output_type": "stream",
     "text": [
      "Dizin medyanı: 12.0\n"
     ]
    }
   ],
   "source": [
    "# Kullanıcıdan dizi uzunluğunu al\n",
    "dizi_uzunlugu = int(input(\"Dizi uzunluğunu girin: \"))\n",
    "\n",
    "# Kullanıcıdan dizi elemanlarını al\n",
    "dizi = []\n",
    "for i in range(dizi_uzunlugu):\n",
    "    eleman = float(input(f\"{i+1}. elemanı girin: \"))\n",
    "    dizi.append(eleman)\n",
    "\n",
    "# Diziyi sırala\n",
    "dizi.sort()\n",
    "\n",
    "# Medyanı hesapla\n",
    "if dizi_uzunlugu % 2 == 0:\n",
    "    orta_sag = dizi[dizi_uzunlugu // 2]\n",
    "    orta_sol = dizi[dizi_uzunlugu // 2 - 1]\n",
    "    medyan = (orta_sag + orta_sol) / 2\n",
    "else:\n",
    "    medyan = dizi[dizi_uzunlugu // 2]\n",
    "\n",
    "# Sonucu ekrana yazdır\n",
    "print(\"Dizin medyanı:\", medyan)\n"
   ]
  }
 ],
 "metadata": {
  "kernelspec": {
   "display_name": "Python 3",
   "language": "python",
   "name": "python3"
  },
  "language_info": {
   "codemirror_mode": {
    "name": "ipython",
    "version": 3
   },
   "file_extension": ".py",
   "mimetype": "text/x-python",
   "name": "python",
   "nbconvert_exporter": "python",
   "pygments_lexer": "ipython3",
   "version": "3.11.3"
  },
  "orig_nbformat": 4
 },
 "nbformat": 4,
 "nbformat_minor": 2
}
