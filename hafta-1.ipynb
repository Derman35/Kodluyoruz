{
 "cells": [
  {
   "cell_type": "markdown",
   "metadata": {},
   "source": [
    "soru=Kullanıcıdan bir metin almanızı istiyorum. Bu metnin içindeki en çok tekrar eden harfi bulmalı ve kaç kere tekrar ettiğini göstermeli."
   ]
  },
  {
   "cell_type": "code",
   "execution_count": null,
   "metadata": {},
   "outputs": [],
   "source": [
    "\n"
   ]
  },
  {
   "cell_type": "code",
   "execution_count": null,
   "metadata": {},
   "outputs": [],
   "source": [
    "def en_cok_tekrar_eden_harf(metin):\n",
    "    harf_sayilari = {}\n",
    "    \n",
    "    for harf in metin:\n",
    "        if harf.isalpha():\n",
    "            if harf in harf_sayilari:\n",
    "                harf_sayilari[harf] += 1\n",
    "            else:\n",
    "                harf_sayilari[harf] = 1\n",
    "    \n",
    "    en_cok_tekrar_eden_harf = None\n",
    "    en_cok_tekrar_eden_harf_sayisi = 0\n",
    "    \n",
    "    for harf, sayi in harf_sayilari.items():\n",
    "        if sayi > en_cok_tekrar_eden_harf_sayisi:\n",
    "            en_cok_tekrar_eden_harf = harf\n",
    "            en_cok_tekrar_eden_harf_sayisi = sayi\n",
    "    \n",
    "    return en_cok_tekrar_eden_harf, en_cok_tekrar_eden_harf_sayisi\n",
    "\n",
    "metin = input(\"Bir metin girin: \")\n",
    "en_cok_tekrar_eden_harf, tekrar_sayisi = en_cok_tekrar_eden_harf(metin)\n",
    "\n",
    "print(f\"En çok tekrar eden harf: {en_cok_tekrar_eden_harf}\")\n",
    "print(f\"Tekrar sayısı: {tekrar_sayisi}\")\n"
   ]
  }
 ],
 "metadata": {
  "language_info": {
   "name": "python"
  },
  "orig_nbformat": 4
 },
 "nbformat": 4,
 "nbformat_minor": 2
}
