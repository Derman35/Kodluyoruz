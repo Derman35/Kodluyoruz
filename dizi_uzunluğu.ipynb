{
 "cells": [
  {
   "cell_type": "code",
   "execution_count": 2,
   "metadata": {},
   "outputs": [
    {
     "name": "stdout",
     "output_type": "stream",
     "text": [
      "Dizi elemanlarının ortalaması: 5.0\n"
     ]
    }
   ],
   "source": [
    "# Kullanıcıdan dizi uzunluğunu al\n",
    "dizi_uzunlugu = int(input(\"Dizi uzunluğunu girin: \"))\n",
    "\n",
    "# Kullanıcıdan dizi elemanlarını al\n",
    "dizi = []\n",
    "for i in range(dizi_uzunlugu):\n",
    "    eleman = float(input(f\"{i+1}. elemanı girin: \"))\n",
    "    dizi.append(eleman)\n",
    "\n",
    "# Dizi elemanlarının toplamını hesapla\n",
    "toplam = sum(dizi)\n",
    "\n",
    "# Ortalamayı hesapla\n",
    "ortalama = toplam / dizi_uzunlugu\n",
    "\n",
    "# Sonucu ekrana yazdır\n",
    "print(\"Dizi elemanlarının ortalaması:\", ortalama)\n"
   ]
  }
 ],
 "metadata": {
  "kernelspec": {
   "display_name": "Python 3",
   "language": "python",
   "name": "python3"
  },
  "language_info": {
   "codemirror_mode": {
    "name": "ipython",
    "version": 3
   },
   "file_extension": ".py",
   "mimetype": "text/x-python",
   "name": "python",
   "nbconvert_exporter": "python",
   "pygments_lexer": "ipython3",
   "version": "3.11.3"
  },
  "orig_nbformat": 4
 },
 "nbformat": 4,
 "nbformat_minor": 2
}
