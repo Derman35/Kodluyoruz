{
 "cells": [
  {
   "cell_type": "code",
   "execution_count": 1,
   "metadata": {},
   "outputs": [
    {
     "name": "stdout",
     "output_type": "stream",
     "text": [
      "Metindeki kelime sayısı: 3\n"
     ]
    }
   ],
   "source": [
    "# Kullanıcıdan metni al\n",
    "metin = input(\"Bir metin girin: \")\n",
    "\n",
    "# Metni boşluklara göre bölerek kelime sayısını hesapla\n",
    "kelime_sayisi = len(metin.split())\n",
    "\n",
    "# Sonucu ekrana yazdır\n",
    "print(\"Metindeki kelime sayısı:\", kelime_sayisi)\n"
   ]
  }
 ],
 "metadata": {
  "kernelspec": {
   "display_name": "Python 3",
   "language": "python",
   "name": "python3"
  },
  "language_info": {
   "codemirror_mode": {
    "name": "ipython",
    "version": 3
   },
   "file_extension": ".py",
   "mimetype": "text/x-python",
   "name": "python",
   "nbconvert_exporter": "python",
   "pygments_lexer": "ipython3",
   "version": "3.11.3"
  },
  "orig_nbformat": 4
 },
 "nbformat": 4,
 "nbformat_minor": 2
}
