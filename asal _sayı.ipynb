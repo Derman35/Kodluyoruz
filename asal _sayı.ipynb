{
 "cells": [
  {
   "cell_type": "code",
   "execution_count": 1,
   "metadata": {},
   "outputs": [
    {
     "name": "stdout",
     "output_type": "stream",
     "text": [
      "23 bir asal sayıdır.\n"
     ]
    }
   ],
   "source": [
    "# Kullanıcıdan bir sayı al\n",
    "sayi = int(input(\"Bir sayı girin: \"))\n",
    "\n",
    "# Asal sayı kontrolü\n",
    "asal = True\n",
    "\n",
    "if sayi <= 1:\n",
    "    asal = False\n",
    "else:\n",
    "    for i in range(2, int(sayi ** 0.5) + 1):\n",
    "        if sayi % i == 0:\n",
    "            asal = False\n",
    "            break\n",
    "\n",
    "# Sonucu ekrana yazdır\n",
    "if asal:\n",
    "    print(sayi, \"bir asal sayıdır.\")\n",
    "else:\n",
    "    print(sayi, \"bir asal sayı değildir.\")\n"
   ]
  }
 ],
 "metadata": {
  "kernelspec": {
   "display_name": "Python 3",
   "language": "python",
   "name": "python3"
  },
  "language_info": {
   "codemirror_mode": {
    "name": "ipython",
    "version": 3
   },
   "file_extension": ".py",
   "mimetype": "text/x-python",
   "name": "python",
   "nbconvert_exporter": "python",
   "pygments_lexer": "ipython3",
   "version": "3.11.3"
  },
  "orig_nbformat": 4
 },
 "nbformat": 4,
 "nbformat_minor": 2
}
